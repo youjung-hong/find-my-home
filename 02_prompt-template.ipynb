{
 "cells": [
  {
   "cell_type": "code",
   "execution_count": 11,
   "metadata": {},
   "outputs": [
    {
     "name": "stdout",
     "output_type": "stream",
     "text": [
      "\n",
      "\u001b[1m[\u001b[0m\u001b[34;49mnotice\u001b[0m\u001b[1;39;49m]\u001b[0m\u001b[39;49m A new release of pip is available: \u001b[0m\u001b[31;49m23.2.1\u001b[0m\u001b[39;49m -> \u001b[0m\u001b[32;49m24.0\u001b[0m\n",
      "\u001b[1m[\u001b[0m\u001b[34;49mnotice\u001b[0m\u001b[1;39;49m]\u001b[0m\u001b[39;49m To update, run: \u001b[0m\u001b[32;49mpip install --upgrade pip\u001b[0m\n"
     ]
    }
   ],
   "source": [
    "! pip3 install -qU langchain-upstage python-dotenv langchain_core markdown"
   ]
  },
  {
   "cell_type": "code",
   "execution_count": 12,
   "metadata": {},
   "outputs": [
    {
     "name": "stdout",
     "output_type": "stream",
     "text": [
      "The dotenv extension is already loaded. To reload it, use:\n",
      "  %reload_ext dotenv\n"
     ]
    }
   ],
   "source": [
    "%load_ext dotenv\n",
    "%dotenv"
   ]
  },
  {
   "cell_type": "code",
   "execution_count": 13,
   "metadata": {},
   "outputs": [
    {
     "name": "stdout",
     "output_type": "stream",
     "text": [
      "109097\n"
     ]
    }
   ],
   "source": [
    "import markdown\n",
    "\n",
    "# Convert markdown file to HTML\n",
    "def convert_markdown_to_html(file_path):\n",
    "    with open(file_path, 'r', encoding='utf-8') as file:\n",
    "        content = file.read()\n",
    "    html = markdown.markdown(content)\n",
    "    return html\n",
    "\n",
    "file_path = 'apply-home.md'\n",
    "markdown_string = ''\n",
    "with open(file_path, 'r', encoding='utf-8') as file:\n",
    "    markdown_string = file.read()\n",
    "print(len(markdown_string))"
   ]
  },
  {
   "cell_type": "code",
   "execution_count": 14,
   "metadata": {},
   "outputs": [],
   "source": [
    "from langchain_core.prompts import PromptTemplate\n",
    "from langchain_core.output_parsers import StrOutputParser\n",
    "from langchain_upstage import ChatUpstage\n",
    "\n",
    "\n",
    "llm = ChatUpstage()\n",
    "\n",
    "prompt_template = PromptTemplate.from_template(\n",
    "    \"\"\"\n",
    "    Please provide most correct answer from the following context. \n",
    "    If the answer is not present in the context, please write \"The information is not present in the context.\"\n",
    "    ---\n",
    "    Question: {question}\n",
    "    ---\n",
    "    Context: {Context}\n",
    "    \"\"\"\n",
    ")\n",
    "chain = prompt_template | llm | StrOutputParser()"
   ]
  },
  {
   "cell_type": "code",
   "execution_count": 15,
   "metadata": {},
   "outputs": [
    {
     "data": {
      "text/plain": [
       "'주택 청약 안내\\n\\n## 청약주택\\n### 주택의 종류\\n- 국민주택: 주거전용면적 85m² 이하. 단, 수도권 및 도시지역이 아닌 읍ㆍ면 지역은 주거전용면적 100m² 이하\\n- 민영주택: 국민주택을 제외한 주택\\n\\n* 주택종류에 따라 청약자격, 입주자(당첨자) 선정 방식, 재당첨 제한 등이 다르게 적용됩니다.\\n\\n### 주택의 종류에 따른 청약 가능 통장\\n- 국민주택: 주택청약종합저축, 청약저축\\n- 민영주택: 주택청약종합저축, 청약예금ㆍ부금\\n\\n## 청약통장 \\n\\n### 청약통장 종류\\n- 주택청약종합저축:\\n    - 은행: 농협, 신한, 우리, 하나, 기업, 국민, 대구, 부산, 경남\\n    - 가입가능\\n    - 국민주택과 민영주택을 공급받기 위한 청약통장\\n\\n\\n- 청약저축: \\n    - 신규가입 중단 (15년 9월 1일 부터)\\n    - 가입불가\\n    - 국민주택을 공급받기 위한 청약통장\\n\\n- 청약예금\\n    - 신규가입 중단 (15년 9월 1일 부터)\\n    - 가입불가\\n    - 민영주택을 공급받기 위한 청약통장\\n\\n- 청약부금\\n    - 신규가입 중단 (15년 9월 1일 부터)\\n    - 가입불가\\n    - 주거전용면적 85m2 이하의 민영주택을 공급받기 위한 청약통장\\n\\n### 주택청약종합저축\\n- 2009년 5월 6일 출시된 주택청약종합저축은 기존의 청약저축에 청약예금, 청약부금 기능을 한데 묶어 놓은 입주자저축(청약통장)으로 국민주택과 민영주택 모두에 청약할 수 있습니다.\\n\\n- 가입대상: 국내 거주자인 개인 (연령, 자격제한에 관계없이 누구나 가입 가능)\\n- 적립방법/저축금액: 매월 2만원 이상 50만원 이내에서 자유롭게 납입\\n- 가입 시 구비서류\\n    - 본인이 직접 가입신청 시: 실명확인증표\\n    - 배우자/직계 존ㆍ비속이 대리 가입신청 시: 주민등록표등본, 대리인 실명확인증표\\n    - 제3자가 가입신청 시: 본인 및 대리인 실명확인증표, 본인이 작성한 위임장, 본인의 인감증명서 (금융계좌 개설용)\\n\\n### 청약저축\\n- 청약저축은 국민주택을 공급받기 위한 청약통장입니다.\\n\\n- 가입대상: 무주택세대의 세대주 및 (세대주의) 세대구성원으로서 1인 1계좌 가입 가능\\n    - 무주택세대 : 세대주와 세대구성원이 모두 무주택인 세대\\n    - 세대구성원 : 세대주의 배우자 및 세대주의 직계존ㆍ비속(부모, 자녀 등)\\n    - 단, 만19세 미만인 단독 세대주는 가입 불가\\n    - 15년 9월 1일부터 신규가입 중단\\t\\n- 적립방법/저축금액: 매월 2만원 이상 50만원 이내에서 자유롭게 납입\\n\\n### 청약예금ㆍ청약부금\\n- 청약예금은 민영주택을 공급하기 위한 예금입니다.\\n- 청약부금은 주거전용면적 85m2 이하의 민영주택을 공급받기 위한 부금입니다.\\n\\n- 가입대상: 만19세 이상의 개인 (세대주인 경우 만19세 미만인 경우도 가입 가능하나 단독세대주는 가입 불가)\\n- 15년 9월 1일부터 신규가입 중단\\n- 적립방법/저축금액: 매월 2만원 이상 50만원 이내에서 자유롭게 납입\\n- 지역별 예치금액 (“지역”은 입주자모집공고일 현재 주택공급신청자의 주민등록표에 따른 거주지역 기준임)\\n\\n<table class=\"tbl_st tbl_center\">\\n <caption class=\"blind\">지역/전용면적별 예치금액</caption>\\n <colgroup>\\n <col style=\"width:auto\">\\n <col style=\"width:14%\">\\n <col style=\"width:14%\">\\n <col style=\"width:14%\">\\n <col style=\"width:14%\">\\n <col style=\"width:14%\">\\n </colgroup>\\n <thead>\\n <tr>\\n <th scope=\"rowgroup\" rowspan=\"2\">구분</th>\\n <th scope=\"colgroup\" colspan=\"3\">청약예금</th>\\n <th scope=\"colgroup\" colspan=\"3\">청약부금<br>(85m<sup>2</sup> 이하의 주택에만 청약신청 가능)</th>\\n </tr>\\n <tr>\\n <th scope=\"col\">서울/부산</th>\\n <th scope=\"col\">기타 광역시</th>\\n <th scope=\"col\">기타 시/군</th>\\n <th scope=\"col\">서울/부산</th>\\n <th scope=\"col\">기타 광역시</th>\\n <th scope=\"col\">기타 시/군</th>\\n </tr>\\n </thead>\\n <tbody>\\n <tr>\\n <td>85㎡ 이하</td>\\n <td>300</td>\\n <td>250</td>\\n <td>200</td>\\n <td>300</td>\\n <td>250</td>\\n <td>200</td>\\n </tr>\\n <tr>\\n <td>102㎡ 이하</td>\\n <td>600</td>\\n <td>400</td>\\n <td>300</td>\\n <td colspan=\"3\" rowspan=\"3\">\\n <small class=\"color_red\">청약부금으로 민영주택 2순위 청약 시에는<br>예치금에 관계없이 모든 주택 규모 청약 가능</small>\\n </td>\\n </tr>\\n <tr>\\n <td>135㎡ 이하</td>\\n <td>1,000</td>\\n <td>700</td>\\n <td>400</td>\\n </tr>\\n <tr>\\n <td>모든면적</td>\\n <td>1,500</td>\\n <td>1,000</td>\\n <td>500</td>\\n </tr>\\n </tbody>\\n</table>\\n\\n\\n## 청약자격\\n### 민영주택\\n최초 입주자모집공고일 현재 해당 주택건설지역 또는 인근지역 에 거주하는 자로서 민법에 따른 성년자(만19세 이상)와 아래의 어느 하나에 해당하는 세대주인 미성년자(주택청약 시 성년자로 인정)만 청약 신청할 수 있습니다. 단, 아래의 자녀 및 형제자매는 세대주인 미성년자와 같은 세대별 주민등록표등본에 등재되어 있어야 합니다.\\n\\n- 자녀를 양육하는 경우\\n- 직계존속의 사망, 실종선고 및 행방불명 등으로 형제자매를 부양하는 경우\\n\\n민영주택 순위별 조건\\n<table class=\"tbl_st\">\\n <caption class=\"blind\">민영주택 순위별 조건이 나와있는 테이블입니다.</caption>\\n <colgroup>\\n <col style=\"width:15%\">\\n <col style=\"width:15%\">\\n <col style=\"width:auto\">\\n <col style=\"width:25%\">\\n </colgroup>\\n <thead>\\n <tr>\\n <th scope=\"colgroup\" rowspan=\"2\">청약순위</th>\\n <th scope=\"colgroup\" rowspan=\"2\">청약통장<br>(입주자저축)</th>\\n <th scope=\"col\" colspan=\"2\">순위별 조건</th>\\n </tr>\\n <tr>\\n <th scope=\"col\">청약통장 가입기간</th>\\n <th scope=\"col\">납입금</th>\\n </tr>\\n </thead>\\n <tbody>\\n <tr>\\n <th scope=\"row\" rowspan=\"3\">1순위</th>\\n <td class=\"txt_c\">주택청약<br>종합저축</td>\\n <td rowspan=\"3\">\\n <ul class=\"bul_list\">\\n <li class=\"color_black\">투기과열지구 및 청약과열지역<br>: 가입 후 2년이 경과한 분</li>\\n <li class=\"color_black\">위축지역<br>: 가입 후 1개월이 경과한 분</li>\\n <li class=\"color_black\">\\n 투기과열지구 및 청약과열지역, 위축지역 외\\n <ul class=\"bul_list line_list\">\\n <li class=\"color_black\">수도권 지역 : 가입 후 1년이 경과한 분<br>(다만, 필요한 경우 시ㆍ도지사가 24개월까지 연장 가능)</li>\\n <li class=\"color_black\">수도권 외 지역 : 가입 후 6개월이 경과한 분<br>(다만, 필요한 경우 시ㆍ도지사가 12'"
      ]
     },
     "execution_count": 15,
     "metadata": {},
     "output_type": "execute_result"
    }
   ],
   "source": [
    "query = '우리가 청약할 수 있는 분양공고인지 알고 싶어'\n",
    "chain.invoke({\"question\": query, \"Context\": markdown_string[:54548]})"
   ]
  }
 ],
 "metadata": {
  "kernelspec": {
   "display_name": ".venv",
   "language": "python",
   "name": "python3"
  },
  "language_info": {
   "codemirror_mode": {
    "name": "ipython",
    "version": 3
   },
   "file_extension": ".py",
   "mimetype": "text/x-python",
   "name": "python",
   "nbconvert_exporter": "python",
   "pygments_lexer": "ipython3",
   "version": "3.12.0"
  }
 },
 "nbformat": 4,
 "nbformat_minor": 2
}
