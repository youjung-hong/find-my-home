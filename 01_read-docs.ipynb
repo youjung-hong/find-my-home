{
 "cells": [
  {
   "cell_type": "code",
   "execution_count": 4,
   "metadata": {},
   "outputs": [
    {
     "name": "stdout",
     "output_type": "stream",
     "text": [
      "\n",
      "\u001b[1m[\u001b[0m\u001b[34;49mnotice\u001b[0m\u001b[1;39;49m]\u001b[0m\u001b[39;49m A new release of pip is available: \u001b[0m\u001b[31;49m23.2.1\u001b[0m\u001b[39;49m -> \u001b[0m\u001b[32;49m24.0\u001b[0m\n",
      "\u001b[1m[\u001b[0m\u001b[34;49mnotice\u001b[0m\u001b[1;39;49m]\u001b[0m\u001b[39;49m To update, run: \u001b[0m\u001b[32;49mpip install --upgrade pip\u001b[0m\n"
     ]
    }
   ],
   "source": [
    "! pip3 install -qU markdown"
   ]
  },
  {
   "cell_type": "code",
   "execution_count": 5,
   "metadata": {},
   "outputs": [
    {
     "name": "stdout",
     "output_type": "stream",
     "text": [
      "The dotenv extension is already loaded. To reload it, use:\n",
      "  %reload_ext dotenv\n"
     ]
    }
   ],
   "source": [
    "%load_ext dotenv\n",
    "%dotenv"
   ]
  },
  {
   "cell_type": "code",
   "execution_count": 6,
   "metadata": {},
   "outputs": [
    {
     "name": "stdout",
     "output_type": "stream",
     "text": [
      "# APT 청약안내\n",
      "\n",
      "## 청약주택\n",
      "### 주택의 종류\n",
      "- 국민주택\n",
      "    - 국민주택규모: 주거전용면적 85m² 이하. 단, 수도권 및 도시지역이 아닌 읍ㆍ면 지역은 주거전용면적 100m² 이하\n",
      "    - 국가, 지방자치단체, LH 및 지방공사가 건설하는 주거전용면적 85m² 이하의 주택\n",
      "    - 국가나 지방자치단체의 재정 또는 주택도시기금(구 국민주택기금)을 지원받아 건설ㆍ개량하는 주거전용면적 85m²이하의 주택\n",
      "- 민영주택\n",
      "    - 국민주택을 제외한 주택\n",
      "\n",
      "* 주택종류에 따라 청약자격, 입주자(당첨자) 선정 방식, 재당첨 제한 등이 다르게 적용됩니다.\n",
      "\n",
      "### 주택의 종류에 따른 청약 가능 통장\n",
      "- 국민주택: 주택청약종합저축, 청약저축\n",
      "- 민영주택: 주택청약종합저축, 청약예금ㆍ부금\n",
      "\n",
      "## 청약통장 \n",
      "\n",
      "### 청약통장 종류\n",
      "- 주택청약종합저축:\n",
      "    - 은행: 농협, 신한, 우리, 하나, 기업, 국민, 대구, 부산, 경남\n",
      "    - 가입가능\n",
      "    - 국민주택과 민영주택을 공급받기 위한 청약통장\n",
      "\n",
      "\n",
      "- 청약저축: \n",
      "    - 신규가입 중단 (15년 9월 1일 부터)\n",
      "    - 가입불가\n",
      "    - 국민주택을 공급받기 위한 청약통장\n",
      "\n",
      "- 청약예금\n",
      "    - 신규가입 중단 (15년 9월 1일 부터)\n",
      "    - 가입불가\n",
      "    - 민영주택을 공급받기 위한 청약통장\n",
      "\n",
      "- 청약부금\n",
      "    - 신규가입 중단 (15년 9월 1일 부터)\n",
      "    - 가입불가\n",
      "    - 주거전용면적 85m2 이하의 민영주택을 공급받기 위한 청약통장\n",
      "\n",
      "### 주택청약종합저축\n",
      "- 2009년 5월 6일 출시된 주택청약종합저축은 기존의 청약저축에 청약예금, 청약부금 기능을 한데 묶어 놓은 입주자저축(청약통장)으로 국민주택과 민영주택 모두에 청약할 수 있습니다.\n",
      "\n",
      "- 가입대상: 국내 거주자인 개인 (연령, 자격제한에 관계없이 누구나 가입 가능)\n",
      "- 적립방법/저축금액: 매월 2만원 이상 50만원 이내에서 자유롭게 납입\n",
      "- 가입 시 구비서류\n",
      "    - 본인이 직접 가입신청 시: 실명확인증표\n",
      "    \n"
     ]
    }
   ],
   "source": [
    "import markdown\n",
    "\n",
    "# Convert markdown file to HTML\n",
    "def convert_markdown_to_html(file_path):\n",
    "    with open(file_path, 'r', encoding='utf-8') as file:\n",
    "        content = file.read()\n",
    "    html = markdown.markdown(content)\n",
    "    return html\n",
    "\n",
    "file_path = 'apply-home.md'\n",
    "markdown_string = ''\n",
    "with open(file_path, 'r', encoding='utf-8') as file:\n",
    "    markdown_string = file.read()\n",
    "print(markdown_string[:1000])"
   ]
  }
 ],
 "metadata": {
  "kernelspec": {
   "display_name": ".venv",
   "language": "python",
   "name": "python3"
  },
  "language_info": {
   "codemirror_mode": {
    "name": "ipython",
    "version": 3
   },
   "file_extension": ".py",
   "mimetype": "text/x-python",
   "name": "python",
   "nbconvert_exporter": "python",
   "pygments_lexer": "ipython3",
   "version": "3.12.0"
  }
 },
 "nbformat": 4,
 "nbformat_minor": 2
}
