{
 "cells": [
  {
   "cell_type": "code",
   "execution_count": 1,
   "metadata": {},
   "outputs": [
    {
     "name": "stdout",
     "output_type": "stream",
     "text": [
      "\n",
      "\u001b[1m[\u001b[0m\u001b[34;49mnotice\u001b[0m\u001b[1;39;49m]\u001b[0m\u001b[39;49m A new release of pip is available: \u001b[0m\u001b[31;49m23.2.1\u001b[0m\u001b[39;49m -> \u001b[0m\u001b[32;49m24.0\u001b[0m\n",
      "\u001b[1m[\u001b[0m\u001b[34;49mnotice\u001b[0m\u001b[1;39;49m]\u001b[0m\u001b[39;49m To update, run: \u001b[0m\u001b[32;49mpip install --upgrade pip\u001b[0m\n"
     ]
    }
   ],
   "source": [
    "! pip3 install -qU langchain-upstage python-dotenv langchain_core markdown langchain_community langchain_text_splitters langchain_chroma"
   ]
  },
  {
   "cell_type": "code",
   "execution_count": 7,
   "metadata": {},
   "outputs": [
    {
     "name": "stdout",
     "output_type": "stream",
     "text": [
      "The dotenv extension is already loaded. To reload it, use:\n",
      "  %reload_ext dotenv\n"
     ]
    }
   ],
   "source": [
    "%load_ext dotenv\n",
    "%dotenv"
   ]
  },
  {
   "cell_type": "code",
   "execution_count": 3,
   "metadata": {},
   "outputs": [
    {
     "name": "stdout",
     "output_type": "stream",
     "text": [
      "109097\n"
     ]
    }
   ],
   "source": [
    "import markdown\n",
    "\n",
    "# Convert markdown file to HTML\n",
    "def convert_markdown_to_html(file_path):\n",
    "    with open(file_path, 'r', encoding='utf-8') as file:\n",
    "        content = file.read()\n",
    "    html = markdown.markdown(content)\n",
    "    return html\n",
    "\n",
    "file_path = 'apply-home.md'\n",
    "markdown_string = ''\n",
    "with open(file_path, 'r', encoding='utf-8') as file:\n",
    "    markdown_string = file.read()\n",
    "print(len(markdown_string))"
   ]
  },
  {
   "cell_type": "code",
   "execution_count": 4,
   "metadata": {},
   "outputs": [],
   "source": [
    "from langchain_community.retrievers import BM25Retriever\n",
    "from langchain_text_splitters import (\n",
    "    Language,\n",
    "    RecursiveCharacterTextSplitter,\n",
    ")\n",
    "\n",
    "text_splitter = RecursiveCharacterTextSplitter.from_language(\n",
    "    chunk_size=1000, chunk_overlap=100, language=Language.MARKDOWN\n",
    ")\n",
    "splits = text_splitter.split_text(markdown_string)"
   ]
  },
  {
   "cell_type": "code",
   "execution_count": 12,
   "metadata": {},
   "outputs": [
    {
     "name": "stdout",
     "output_type": "stream",
     "text": [
      "## 청약주택\n",
      "#\n"
     ]
    }
   ],
   "source": [
    "import re\n",
    "\n",
    "def split_markdown_by_h2(content):\n",
    "    # Use regex to split the content by `##` titles\n",
    "    sections = re.split(r'(## .+)', content)\n",
    "    # Initialize an empty list to hold the final sections\n",
    "    split_content = []\n",
    "    \n",
    "    # Combine the titles with their corresponding content\n",
    "    for i in range(1, len(sections), 2):\n",
    "        section_title = sections[i]\n",
    "        section_content = sections[i + 1] if (i + 1) < len(sections) else ''\n",
    "        split_content.append(section_title + section_content)\n",
    "    \n",
    "    return split_content\n",
    "\n",
    "section = split_markdown_by_h2(markdown_string)\n",
    "print(section[0][:100])"
   ]
  },
  {
   "cell_type": "code",
   "execution_count": 22,
   "metadata": {},
   "outputs": [],
   "source": [
    "from langchain.docstore.document import Document\n",
    "from langchain_chroma import Chroma\n",
    "from langchain_upstage import UpstageEmbeddings\n",
    "\n",
    "split_docs = [Document(page_content=text) for text in splits]\n",
    "\n",
    "# 3. Embed & indexing\n",
    "vectorstore = Chroma.from_documents(\n",
    "    documents=split_docs,\n",
    "    embedding=UpstageEmbeddings(model=\"solar-embedding-1-large\"),\n",
    ")"
   ]
  },
  {
   "cell_type": "code",
   "execution_count": 23,
   "metadata": {},
   "outputs": [
    {
     "name": "stdout",
     "output_type": "stream",
     "text": [
      "4\n",
      "- 대상주택\n",
      "    - 전용면적 85m² 이하의 분양주택 (국민주택, 민영주택)\n",
      "    - 한부모가족, 국군포로, 위안부피해자, 철거주택세입자 기관추천의 경우에는 공공임대주택\n",
      "- \n"
     ]
    }
   ],
   "source": [
    "retriever = vectorstore.as_retriever()\n",
    "result_docs = retriever.invoke(\"청약 자격\")\n",
    "print(len(result_docs))\n",
    "print(result_docs[0].page_content[:100])"
   ]
  },
  {
   "cell_type": "code",
   "execution_count": 24,
   "metadata": {},
   "outputs": [],
   "source": [
    "from langchain_core.prompts import PromptTemplate\n",
    "from langchain_core.output_parsers import StrOutputParser\n",
    "from langchain_upstage import ChatUpstage\n",
    "\n",
    "\n",
    "llm = ChatUpstage()\n",
    "\n",
    "prompt_template = PromptTemplate.from_template(\n",
    "    \"\"\"\n",
    "    Please provide most correct answer from the following context. \n",
    "    If the answer is not present in the context, please write \"The information is not present in the context.\"\n",
    "    ---\n",
    "    Question: {question}\n",
    "    ---\n",
    "    Context: {Context}\n",
    "    \"\"\"\n",
    ")\n",
    "chain = prompt_template | llm | StrOutputParser()"
   ]
  },
  {
   "cell_type": "code",
   "execution_count": 26,
   "metadata": {},
   "outputs": [
    {
     "data": {
      "text/plain": [
       "'제공된 문맥을 기반으로 보면, 분양 공고에 대한 청약이 가능한지에 대한 정보는 제공되지 않습니다. 문맥에서는 특별공급에 대한 정보와 자격 요건, 청약 자격, 청약 통장, 선정 방법 등에 대한 정보가 제공됩니다. 그러나 분양 공고에 대한 구체적인 내용은 언급되지 않았습니다. 따라서 분양 공고에 대한 청약이 가능한지에 대한 답변은 \"제공된 문맥에는 해당 정보가 없습니다.\"입니다.'"
      ]
     },
     "execution_count": 26,
     "metadata": {},
     "output_type": "execute_result"
    }
   ],
   "source": [
    "query = '우리가 청약할 수 있는 분양공고인지 알고 싶어'\n",
    "chain.invoke({\"question\": query, \"Context\": result_docs})"
   ]
  }
 ],
 "metadata": {
  "kernelspec": {
   "display_name": ".venv",
   "language": "python",
   "name": "python3"
  },
  "language_info": {
   "codemirror_mode": {
    "name": "ipython",
    "version": 3
   },
   "file_extension": ".py",
   "mimetype": "text/x-python",
   "name": "python",
   "nbconvert_exporter": "python",
   "pygments_lexer": "ipython3",
   "version": "3.12.0"
  }
 },
 "nbformat": 4,
 "nbformat_minor": 2
}
